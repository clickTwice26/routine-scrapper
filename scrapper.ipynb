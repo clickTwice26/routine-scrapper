{
 "cells": [
  {
   "cell_type": "code",
   "execution_count": 1,
   "id": "1772e646-f82e-499e-a9af-5b433b23afcf",
   "metadata": {},
   "outputs": [
    {
     "ename": "ModuleNotFoundError",
     "evalue": "No module named 'aspose'",
     "output_type": "error",
     "traceback": [
      "\u001b[0;31m---------------------------------------------------------------------------\u001b[0m",
      "\u001b[0;31mModuleNotFoundError\u001b[0m                       Traceback (most recent call last)",
      "Cell \u001b[0;32mIn[1], line 1\u001b[0m\n\u001b[0;32m----> 1\u001b[0m \u001b[38;5;28;01mimport\u001b[39;00m \u001b[38;5;21;01maspose\u001b[39;00m\u001b[38;5;21;01m.\u001b[39;00m\u001b[38;5;21;01mpdf\u001b[39;00m \u001b[38;5;28;01mas\u001b[39;00m \u001b[38;5;21;01map\u001b[39;00m\n\u001b[1;32m      3\u001b[0m input_pdf \u001b[38;5;241m=\u001b[39m DIR_INPUT \u001b[38;5;241m+\u001b[39m \u001b[38;5;124m\"\u001b[39m\u001b[38;5;124msample.pdf\u001b[39m\u001b[38;5;124m\"\u001b[39m\n\u001b[1;32m      4\u001b[0m output_pdf \u001b[38;5;241m=\u001b[39m DIR_OUTPUT \u001b[38;5;241m+\u001b[39m \u001b[38;5;124m\"\u001b[39m\u001b[38;5;124mconvert_pdf_to_xls.xls\u001b[39m\u001b[38;5;124m\"\u001b[39m\n",
      "\u001b[0;31mModuleNotFoundError\u001b[0m: No module named 'aspose'"
     ]
    }
   ],
   "source": [
    "    import aspose.pdf as ap\n",
    "\n",
    "    input_pdf = DIR_INPUT + \"sample.pdf\"\n",
    "    output_pdf = DIR_OUTPUT + \"convert_pdf_to_xls.xls\"\n",
    "    # Open PDF document\n",
    "    document = ap.Document(input_pdf)\n",
    "\n",
    "    save_option = ap.ExcelSaveOptions()\n",
    "    save_option.format = ap.ExcelSaveOptions.ExcelFormat.XML_SPREAD_SHEET2003\n",
    "\n",
    "    # Save the file into MS Excel format\n",
    "    document.save(output_pdf, save_option)"
   ]
  },
  {
   "cell_type": "code",
   "execution_count": null,
   "id": "87828a4f-4e45-4598-b8fb-d4ccb050b7e4",
   "metadata": {},
   "outputs": [],
   "source": []
  }
 ],
 "metadata": {
  "kernelspec": {
   "display_name": "Python 3 (ipykernel)",
   "language": "python",
   "name": "python3"
  },
  "language_info": {
   "codemirror_mode": {
    "name": "ipython",
    "version": 3
   },
   "file_extension": ".py",
   "mimetype": "text/x-python",
   "name": "python",
   "nbconvert_exporter": "python",
   "pygments_lexer": "ipython3",
   "version": "3.10.12"
  },
  "widgets": {
   "application/vnd.jupyter.widget-state+json": {
    "state": {},
    "version_major": 2,
    "version_minor": 0
   }
  }
 },
 "nbformat": 4,
 "nbformat_minor": 5
}
